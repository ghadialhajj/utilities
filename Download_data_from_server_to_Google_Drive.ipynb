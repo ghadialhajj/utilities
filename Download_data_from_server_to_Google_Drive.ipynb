{
  "nbformat": 4,
  "nbformat_minor": 0,
  "metadata": {
    "colab": {
      "provenance": []
    },
    "kernelspec": {
      "name": "python3",
      "display_name": "Python 3"
    },
    "language_info": {
      "name": "python"
    }
  },
  "cells": [
    {
      "cell_type": "code",
      "source": [
        "!pip install fabric\n",
        "from google.colab import drive\n",
        "import os\n",
        "from fabric import Connection"
      ],
      "metadata": {
        "id": "DDcAc49y7N8Q"
      },
      "execution_count": null,
      "outputs": []
    },
    {
      "cell_type": "code",
      "execution_count": 3,
      "metadata": {
        "id": "q7ZnD9Wm7CVd"
      },
      "outputs": [],
      "source": [
        "c = Connection('server.domain', user='username', connect_kwargs={'password': '____________'})  # <− put your password here\n",
        "\n",
        "# c = Connection('myserver.mydomain.com', user='johndoe', connect_kwargs={'password': 'mypassword'})"
      ]
    },
    {
      "cell_type": "code",
      "source": [
        "drive.mount('/content/gdrive')\n",
        "\n",
        "# move to specific directory to list contents\n",
        "os.chdir(\"/content/gdrive/MyDrive/path/on/drive\")\n",
        "os.listdir()"
      ],
      "metadata": {
        "id": "AYEwiinn7IEi"
      },
      "execution_count": null,
      "outputs": []
    },
    {
      "cell_type": "code",
      "source": [
        "# to copy file filename.extension from the host to your Drive folder, use:\n",
        "c.get('/path/of/file/on/server/filename.extension', '/content/gdrive/MyDrive/path/on/drive/filename.extension')\n",
        "\n",
        "# c.get('/host/users/username/file_to_download.zip', '/content/gdrive/MyDrive/path/on/drive/file_to_download.zip')"
      ],
      "metadata": {
        "id": "QznftRW-_Ztu"
      },
      "execution_count": null,
      "outputs": []
    },
    {
      "cell_type": "code",
      "source": [
        "# close the connection after you're done\n",
        "c.close()"
      ],
      "metadata": {
        "id": "wEWeuvVK7E8I"
      },
      "execution_count": 6,
      "outputs": []
    }
  ]
}